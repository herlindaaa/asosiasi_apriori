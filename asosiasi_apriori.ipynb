{
  "nbformat": 4,
  "nbformat_minor": 0,
  "metadata": {
    "colab": {
      "provenance": [],
      "authorship_tag": "ABX9TyNNEfjBjj2mSSdz347+0iLK",
      "include_colab_link": true
    },
    "kernelspec": {
      "name": "python3",
      "display_name": "Python 3"
    },
    "language_info": {
      "name": "python"
    }
  },
  "cells": [
    {
      "cell_type": "markdown",
      "metadata": {
        "id": "view-in-github",
        "colab_type": "text"
      },
      "source": [
        "<a href=\"https://colab.research.google.com/github/herlindaaa/asosiasi_apriori/blob/main/asosiasi_apriori.ipynb\" target=\"_parent\"><img src=\"https://colab.research.google.com/assets/colab-badge.svg\" alt=\"Open In Colab\"/></a>"
      ]
    },
    {
      "cell_type": "code",
      "execution_count": 23,
      "metadata": {
        "id": "O3utTKrIcnxj"
      },
      "outputs": [],
      "source": [
        "import numpy as np\n",
        "import pandas as pd\n",
        "from mlxtend.frequent_patterns import apriori, association_rules"
      ]
    },
    {
      "cell_type": "code",
      "source": [
        "data = pd.read_csv('online_retail.csv')\n",
        "data.head()"
      ],
      "metadata": {
        "colab": {
          "base_uri": "https://localhost:8080/",
          "height": 206
        },
        "id": "OBdgX2aOnIbb",
        "outputId": "26cf56d1-3fe3-4792-bd3e-bf227c61503d"
      },
      "execution_count": 24,
      "outputs": [
        {
          "output_type": "execute_result",
          "data": {
            "text/plain": [
              "  InvoiceNo StockCode                          Description  Quantity  \\\n",
              "0    536365    85123A   WHITE HANGING HEART T-LIGHT HOLDER       6.0   \n",
              "1    536365     71053                  WHITE METAL LANTERN       6.0   \n",
              "2    536365    84406B       CREAM CUPID HEARTS COAT HANGER       8.0   \n",
              "3    536365    84029G  KNITTED UNION FLAG HOT WATER BOTTLE       6.0   \n",
              "4    536365    84029E       RED WOOLLY HOTTIE WHITE HEART.       6.0   \n",
              "\n",
              "      InvoiceDate  UnitPrice  CustomerID         Country  \n",
              "0  12/1/2010 8:26       2.55     17850.0  United Kingdom  \n",
              "1  12/1/2010 8:26       3.39     17850.0  United Kingdom  \n",
              "2  12/1/2010 8:26       2.75     17850.0  United Kingdom  \n",
              "3  12/1/2010 8:26       3.39     17850.0  United Kingdom  \n",
              "4  12/1/2010 8:26       3.39     17850.0  United Kingdom  "
            ],
            "text/html": [
              "\n",
              "  <div id=\"df-6e29aeb8-1ac4-48a0-bb6d-437a3eee624e\">\n",
              "    <div class=\"colab-df-container\">\n",
              "      <div>\n",
              "<style scoped>\n",
              "    .dataframe tbody tr th:only-of-type {\n",
              "        vertical-align: middle;\n",
              "    }\n",
              "\n",
              "    .dataframe tbody tr th {\n",
              "        vertical-align: top;\n",
              "    }\n",
              "\n",
              "    .dataframe thead th {\n",
              "        text-align: right;\n",
              "    }\n",
              "</style>\n",
              "<table border=\"1\" class=\"dataframe\">\n",
              "  <thead>\n",
              "    <tr style=\"text-align: right;\">\n",
              "      <th></th>\n",
              "      <th>InvoiceNo</th>\n",
              "      <th>StockCode</th>\n",
              "      <th>Description</th>\n",
              "      <th>Quantity</th>\n",
              "      <th>InvoiceDate</th>\n",
              "      <th>UnitPrice</th>\n",
              "      <th>CustomerID</th>\n",
              "      <th>Country</th>\n",
              "    </tr>\n",
              "  </thead>\n",
              "  <tbody>\n",
              "    <tr>\n",
              "      <th>0</th>\n",
              "      <td>536365</td>\n",
              "      <td>85123A</td>\n",
              "      <td>WHITE HANGING HEART T-LIGHT HOLDER</td>\n",
              "      <td>6.0</td>\n",
              "      <td>12/1/2010 8:26</td>\n",
              "      <td>2.55</td>\n",
              "      <td>17850.0</td>\n",
              "      <td>United Kingdom</td>\n",
              "    </tr>\n",
              "    <tr>\n",
              "      <th>1</th>\n",
              "      <td>536365</td>\n",
              "      <td>71053</td>\n",
              "      <td>WHITE METAL LANTERN</td>\n",
              "      <td>6.0</td>\n",
              "      <td>12/1/2010 8:26</td>\n",
              "      <td>3.39</td>\n",
              "      <td>17850.0</td>\n",
              "      <td>United Kingdom</td>\n",
              "    </tr>\n",
              "    <tr>\n",
              "      <th>2</th>\n",
              "      <td>536365</td>\n",
              "      <td>84406B</td>\n",
              "      <td>CREAM CUPID HEARTS COAT HANGER</td>\n",
              "      <td>8.0</td>\n",
              "      <td>12/1/2010 8:26</td>\n",
              "      <td>2.75</td>\n",
              "      <td>17850.0</td>\n",
              "      <td>United Kingdom</td>\n",
              "    </tr>\n",
              "    <tr>\n",
              "      <th>3</th>\n",
              "      <td>536365</td>\n",
              "      <td>84029G</td>\n",
              "      <td>KNITTED UNION FLAG HOT WATER BOTTLE</td>\n",
              "      <td>6.0</td>\n",
              "      <td>12/1/2010 8:26</td>\n",
              "      <td>3.39</td>\n",
              "      <td>17850.0</td>\n",
              "      <td>United Kingdom</td>\n",
              "    </tr>\n",
              "    <tr>\n",
              "      <th>4</th>\n",
              "      <td>536365</td>\n",
              "      <td>84029E</td>\n",
              "      <td>RED WOOLLY HOTTIE WHITE HEART.</td>\n",
              "      <td>6.0</td>\n",
              "      <td>12/1/2010 8:26</td>\n",
              "      <td>3.39</td>\n",
              "      <td>17850.0</td>\n",
              "      <td>United Kingdom</td>\n",
              "    </tr>\n",
              "  </tbody>\n",
              "</table>\n",
              "</div>\n",
              "      <button class=\"colab-df-convert\" onclick=\"convertToInteractive('df-6e29aeb8-1ac4-48a0-bb6d-437a3eee624e')\"\n",
              "              title=\"Convert this dataframe to an interactive table.\"\n",
              "              style=\"display:none;\">\n",
              "        \n",
              "  <svg xmlns=\"http://www.w3.org/2000/svg\" height=\"24px\"viewBox=\"0 0 24 24\"\n",
              "       width=\"24px\">\n",
              "    <path d=\"M0 0h24v24H0V0z\" fill=\"none\"/>\n",
              "    <path d=\"M18.56 5.44l.94 2.06.94-2.06 2.06-.94-2.06-.94-.94-2.06-.94 2.06-2.06.94zm-11 1L8.5 8.5l.94-2.06 2.06-.94-2.06-.94L8.5 2.5l-.94 2.06-2.06.94zm10 10l.94 2.06.94-2.06 2.06-.94-2.06-.94-.94-2.06-.94 2.06-2.06.94z\"/><path d=\"M17.41 7.96l-1.37-1.37c-.4-.4-.92-.59-1.43-.59-.52 0-1.04.2-1.43.59L10.3 9.45l-7.72 7.72c-.78.78-.78 2.05 0 2.83L4 21.41c.39.39.9.59 1.41.59.51 0 1.02-.2 1.41-.59l7.78-7.78 2.81-2.81c.8-.78.8-2.07 0-2.86zM5.41 20L4 18.59l7.72-7.72 1.47 1.35L5.41 20z\"/>\n",
              "  </svg>\n",
              "      </button>\n",
              "      \n",
              "  <style>\n",
              "    .colab-df-container {\n",
              "      display:flex;\n",
              "      flex-wrap:wrap;\n",
              "      gap: 12px;\n",
              "    }\n",
              "\n",
              "    .colab-df-convert {\n",
              "      background-color: #E8F0FE;\n",
              "      border: none;\n",
              "      border-radius: 50%;\n",
              "      cursor: pointer;\n",
              "      display: none;\n",
              "      fill: #1967D2;\n",
              "      height: 32px;\n",
              "      padding: 0 0 0 0;\n",
              "      width: 32px;\n",
              "    }\n",
              "\n",
              "    .colab-df-convert:hover {\n",
              "      background-color: #E2EBFA;\n",
              "      box-shadow: 0px 1px 2px rgba(60, 64, 67, 0.3), 0px 1px 3px 1px rgba(60, 64, 67, 0.15);\n",
              "      fill: #174EA6;\n",
              "    }\n",
              "\n",
              "    [theme=dark] .colab-df-convert {\n",
              "      background-color: #3B4455;\n",
              "      fill: #D2E3FC;\n",
              "    }\n",
              "\n",
              "    [theme=dark] .colab-df-convert:hover {\n",
              "      background-color: #434B5C;\n",
              "      box-shadow: 0px 1px 3px 1px rgba(0, 0, 0, 0.15);\n",
              "      filter: drop-shadow(0px 1px 2px rgba(0, 0, 0, 0.3));\n",
              "      fill: #FFFFFF;\n",
              "    }\n",
              "  </style>\n",
              "\n",
              "      <script>\n",
              "        const buttonEl =\n",
              "          document.querySelector('#df-6e29aeb8-1ac4-48a0-bb6d-437a3eee624e button.colab-df-convert');\n",
              "        buttonEl.style.display =\n",
              "          google.colab.kernel.accessAllowed ? 'block' : 'none';\n",
              "\n",
              "        async function convertToInteractive(key) {\n",
              "          const element = document.querySelector('#df-6e29aeb8-1ac4-48a0-bb6d-437a3eee624e');\n",
              "          const dataTable =\n",
              "            await google.colab.kernel.invokeFunction('convertToInteractive',\n",
              "                                                     [key], {});\n",
              "          if (!dataTable) return;\n",
              "\n",
              "          const docLinkHtml = 'Like what you see? Visit the ' +\n",
              "            '<a target=\"_blank\" href=https://colab.research.google.com/notebooks/data_table.ipynb>data table notebook</a>'\n",
              "            + ' to learn more about interactive tables.';\n",
              "          element.innerHTML = '';\n",
              "          dataTable['output_type'] = 'display_data';\n",
              "          await google.colab.output.renderOutput(dataTable, element);\n",
              "          const docLink = document.createElement('div');\n",
              "          docLink.innerHTML = docLinkHtml;\n",
              "          element.appendChild(docLink);\n",
              "        }\n",
              "      </script>\n",
              "    </div>\n",
              "  </div>\n",
              "  "
            ]
          },
          "metadata": {},
          "execution_count": 24
        }
      ]
    },
    {
      "cell_type": "code",
      "source": [
        "data.columns"
      ],
      "metadata": {
        "colab": {
          "base_uri": "https://localhost:8080/"
        },
        "id": "D4D2P6OAnWvO",
        "outputId": "cb20ce1c-67c7-4d7e-f22d-97b4cea5a9f4"
      },
      "execution_count": 25,
      "outputs": [
        {
          "output_type": "execute_result",
          "data": {
            "text/plain": [
              "Index(['InvoiceNo', 'StockCode', 'Description', 'Quantity', 'InvoiceDate',\n",
              "       'UnitPrice', 'CustomerID', 'Country'],\n",
              "      dtype='object')"
            ]
          },
          "metadata": {},
          "execution_count": 25
        }
      ]
    },
    {
      "cell_type": "code",
      "source": [
        "data.Country.unique()"
      ],
      "metadata": {
        "colab": {
          "base_uri": "https://localhost:8080/"
        },
        "id": "2kKzWaOSndv0",
        "outputId": "0545860b-b287-4f90-b1be-2924f3a4c3cd"
      },
      "execution_count": 4,
      "outputs": [
        {
          "output_type": "execute_result",
          "data": {
            "text/plain": [
              "array(['United Kingdom', 'France', 'Australia', 'Netherlands', 'Germany',\n",
              "       'Norway', 'EIRE', 'Switzerland', 'Spain', 'Poland', 'Portugal',\n",
              "       'Italy', 'Belgium', 'Lithuania', 'Japan', 'Iceland',\n",
              "       'Channel Islands', 'Denmark', 'Cyprus', 'Sweden', 'Austria',\n",
              "       'Israel', 'Finland', 'Bahrain', 'Greece', 'Hong Kong', 'Singapore',\n",
              "       'Lebanon', 'United Arab Emirates', 'Saudi Arabia',\n",
              "       'Czech Republic', 'Canada', 'Unspecified', 'Brazil', 'USA',\n",
              "       'European Community', 'Malta', 'RSA'], dtype=object)"
            ]
          },
          "metadata": {},
          "execution_count": 4
        }
      ]
    },
    {
      "cell_type": "code",
      "source": [
        "data['Description'] = data['Description'].str.strip()"
      ],
      "metadata": {
        "id": "P0t_o6r2nkDk"
      },
      "execution_count": 5,
      "outputs": []
    },
    {
      "cell_type": "code",
      "source": [
        "data.dropna(axis = 0, subset =['InvoiceNo'], inplace = True)\n",
        "data['InvoiceNo'] = data['InvoiceNo'].astype('str')"
      ],
      "metadata": {
        "id": "EkNpo7Q1nwpe"
      },
      "execution_count": 6,
      "outputs": []
    },
    {
      "cell_type": "code",
      "source": [
        "data = data[~data['InvoiceNo'].str.contains('C')]"
      ],
      "metadata": {
        "id": "qVcYG--VoAjs"
      },
      "execution_count": 7,
      "outputs": []
    },
    {
      "cell_type": "code",
      "source": [
        "basket_France = (data[data['Country'] == \"France\"]\n",
        "                 .groupby(['InvoiceNo', 'Description'])['Quantity']\n",
        "                 .sum().unstack().reset_index().fillna(0)\n",
        "                 .set_index('InvoiceNo'))"
      ],
      "metadata": {
        "id": "bDdvS3nyoSqC"
      },
      "execution_count": 8,
      "outputs": []
    },
    {
      "cell_type": "code",
      "source": [
        "basket_UK = (data[data['Country'] == \"United Kingdom\"]\n",
        "                 .groupby(['InvoiceNo', 'Description'])['Quantity']\n",
        "                 .sum().unstack().reset_index().fillna(0)\n",
        "                 .set_index('InvoiceNo'))"
      ],
      "metadata": {
        "id": "yZG8mQiTo-Rm"
      },
      "execution_count": 9,
      "outputs": []
    },
    {
      "cell_type": "code",
      "source": [
        "basket_Por = (data[data['Country'] == \"Portugal\"]\n",
        "                 .groupby(['InvoiceNo', 'Description'])['Quantity']\n",
        "                 .sum().unstack().reset_index().fillna(0)\n",
        "                 .set_index('InvoiceNo'))"
      ],
      "metadata": {
        "id": "UcMGnPOUpVSC"
      },
      "execution_count": 10,
      "outputs": []
    },
    {
      "cell_type": "code",
      "source": [
        "basket_Sweden = (data[data['Country'] == \"Sweden\"]\n",
        "                 .groupby(['InvoiceNo', 'Description'])['Quantity']\n",
        "                 .sum().unstack().reset_index().fillna(0)\n",
        "                 .set_index('InvoiceNo'))"
      ],
      "metadata": {
        "id": "Oqb0VAHHpcNE"
      },
      "execution_count": 11,
      "outputs": []
    },
    {
      "cell_type": "code",
      "source": [
        "def hot_encode(x) :\n",
        "  if(x <= 0) :\n",
        "    return 0\n",
        "  if(x >= 1) :\n",
        "    return 1"
      ],
      "metadata": {
        "id": "vjo_K-ZEpqLY"
      },
      "execution_count": 12,
      "outputs": []
    },
    {
      "cell_type": "code",
      "source": [
        "basket_encoded = basket_France.applymap(hot_encode)\n",
        "basket_France = basket_encoded\n",
        "\n",
        "basket_encoded = basket_UK.applymap(hot_encode)\n",
        "basket_UK = basket_encoded\n",
        "\n",
        "basket_encoded = basket_Por.applymap(hot_encode)\n",
        "basket_Por = basket_encoded\n",
        "\n",
        "basket_encoded = basket_Sweden.applymap(hot_encode)\n",
        "basket_Sweden = basket_encoded"
      ],
      "metadata": {
        "id": "tyslAlYvqM9z"
      },
      "execution_count": 13,
      "outputs": []
    },
    {
      "cell_type": "code",
      "source": [
        "frq_items = apriori(basket_France, min_support = 0.05, use_colnames = True)"
      ],
      "metadata": {
        "id": "mr3kWSbTq8kp"
      },
      "execution_count": 14,
      "outputs": []
    },
    {
      "cell_type": "code",
      "source": [
        "rules = association_rules(frq_items, metric = \"lift\", min_threshold = 1)\n",
        "rules = rules.sort_values(['confidence', 'lift'], ascending = [False, False])\n",
        "print(rules.head())"
      ],
      "metadata": {
        "colab": {
          "base_uri": "https://localhost:8080/"
        },
        "id": "bYS7Po_SrH6E",
        "outputId": "9500b8b7-7e91-47d5-c553-c4c6385c91a9"
      },
      "execution_count": 15,
      "outputs": [
        {
          "output_type": "stream",
          "name": "stdout",
          "text": [
            "                                           antecedents  \\\n",
            "44                        (JUMBO BAG WOODLAND ANIMALS)   \n",
            "259  (PLASTERS IN TIN CIRCUS PARADE, RED TOADSTOOL ...   \n",
            "272  (PLASTERS IN TIN WOODLAND ANIMALS, RED TOADSTO...   \n",
            "301  (SET/20 RED RETROSPOT PAPER NAPKINS, SET/6 RED...   \n",
            "302  (SET/6 RED SPOTTY PAPER PLATES, SET/20 RED RET...   \n",
            "\n",
            "                         consequents  antecedent support  consequent support  \\\n",
            "44                         (POSTAGE)            0.076531            0.765306   \n",
            "259                        (POSTAGE)            0.051020            0.765306   \n",
            "272                        (POSTAGE)            0.053571            0.765306   \n",
            "301  (SET/6 RED SPOTTY PAPER PLATES)            0.102041            0.127551   \n",
            "302    (SET/6 RED SPOTTY PAPER CUPS)            0.102041            0.137755   \n",
            "\n",
            "      support  confidence      lift  leverage  conviction  \n",
            "44   0.076531       1.000  1.306667  0.017961         inf  \n",
            "259  0.051020       1.000  1.306667  0.011974         inf  \n",
            "272  0.053571       1.000  1.306667  0.012573         inf  \n",
            "301  0.099490       0.975  7.644000  0.086474   34.897959  \n",
            "302  0.099490       0.975  7.077778  0.085433   34.489796  \n"
          ]
        }
      ]
    },
    {
      "cell_type": "code",
      "source": [
        "frq_items = apriori(basket_UK, min_support = 0.01, use_colnames = True)\n",
        "rules = association_rules(frq_items, metric = \"lift\", min_threshold = 1)\n",
        "rules = rules.sort_values(['confidence', 'lift'], ascending = [False, False])\n",
        "print(rules.head())"
      ],
      "metadata": {
        "colab": {
          "base_uri": "https://localhost:8080/"
        },
        "id": "OKc6Iovkrdz1",
        "outputId": "80fb05c0-d7a0-42fc-8c7c-bc288052cef0"
      },
      "execution_count": 16,
      "outputs": [
        {
          "output_type": "stream",
          "name": "stdout",
          "text": [
            "                                       antecedents             consequents  \\\n",
            "116           (BEADED CRYSTAL HEART PINK ON STICK)        (DOTCOM POSTAGE)   \n",
            "2019  (SUKI  SHOULDER BAG, JAM MAKING SET PRINTED)        (DOTCOM POSTAGE)   \n",
            "2294         (HERB MARKER THYME, HERB MARKER MINT)  (HERB MARKER ROSEMARY)   \n",
            "2302   (HERB MARKER ROSEMARY, HERB MARKER PARSLEY)     (HERB MARKER THYME)   \n",
            "2301      (HERB MARKER THYME, HERB MARKER PARSLEY)  (HERB MARKER ROSEMARY)   \n",
            "\n",
            "      antecedent support  consequent support   support  confidence       lift  \\\n",
            "116             0.011035            0.037926  0.010767    0.975728  25.727250   \n",
            "2019            0.011624            0.037926  0.011196    0.963134  25.395168   \n",
            "2294            0.010714            0.012374  0.010231    0.955000  77.177229   \n",
            "2302            0.011088            0.012321  0.010553    0.951691  77.244192   \n",
            "2301            0.011088            0.012374  0.010553    0.951691  76.909802   \n",
            "\n",
            "      leverage  conviction  \n",
            "116   0.010349   39.637454  \n",
            "2019  0.010755   26.096261  \n",
            "2294  0.010099   21.947242  \n",
            "2302  0.010416   20.444965  \n",
            "2301  0.010416   20.443856  \n"
          ]
        }
      ]
    },
    {
      "cell_type": "code",
      "source": [
        "frq_items = apriori(basket_Por, min_support = 0.05, use_colnames = True)\n",
        "rules = association_rules(frq_items, metric = \"lift\", min_threshold = 1)\n",
        "rules = rules.sort_values(['confidence', 'lift'], ascending = [False, False])\n",
        "print(rules.head())"
      ],
      "metadata": {
        "colab": {
          "base_uri": "https://localhost:8080/"
        },
        "id": "zV3mvmU0sEBR",
        "outputId": "758f18bd-792e-4a54-ec0c-90065f999705"
      },
      "execution_count": 17,
      "outputs": [
        {
          "output_type": "stream",
          "name": "stdout",
          "text": [
            "                             antecedents                          consequents  \\\n",
            "1170  (SET 12 COLOUR PENCILS DOLLY GIRL)     (SET 12 COLOUR PENCILS SPACEBOY)   \n",
            "1171    (SET 12 COLOUR PENCILS SPACEBOY)   (SET 12 COLOUR PENCILS DOLLY GIRL)   \n",
            "1172  (SET 12 COLOUR PENCILS DOLLY GIRL)   (SET OF 4 KNICK KNACK TINS LONDON)   \n",
            "1173  (SET OF 4 KNICK KNACK TINS LONDON)   (SET 12 COLOUR PENCILS DOLLY GIRL)   \n",
            "1174  (SET 12 COLOUR PENCILS DOLLY GIRL)  (SET OF 4 KNICK KNACK TINS POPPIES)   \n",
            "\n",
            "      antecedent support  consequent support   support  confidence       lift  \\\n",
            "1170            0.051724            0.051724  0.051724         1.0  19.333333   \n",
            "1171            0.051724            0.051724  0.051724         1.0  19.333333   \n",
            "1172            0.051724            0.051724  0.051724         1.0  19.333333   \n",
            "1173            0.051724            0.051724  0.051724         1.0  19.333333   \n",
            "1174            0.051724            0.051724  0.051724         1.0  19.333333   \n",
            "\n",
            "      leverage  conviction  \n",
            "1170  0.049049         inf  \n",
            "1171  0.049049         inf  \n",
            "1172  0.049049         inf  \n",
            "1173  0.049049         inf  \n",
            "1174  0.049049         inf  \n"
          ]
        }
      ]
    },
    {
      "cell_type": "code",
      "source": [
        "frq_items = apriori(basket_Sweden, min_support = 0.05, use_colnames = True)\n",
        "rules = association_rules(frq_items, metric = \"lift\", min_threshold = 1)\n",
        "rules = rules.sort_values(['confidence', 'lift'], ascending = [False, False])\n",
        "print(rules.head())"
      ],
      "metadata": {
        "colab": {
          "base_uri": "https://localhost:8080/"
        },
        "id": "ckLSuG6YsgxX",
        "outputId": "8af494c3-2128-488b-9588-4678ddc79fd8"
      },
      "execution_count": 18,
      "outputs": [
        {
          "output_type": "stream",
          "name": "stdout",
          "text": [
            "                        antecedents                        consequents  \\\n",
            "0     (PACK OF 72 SKULL CAKE CASES)      (12 PENCILS SMALL TUBE SKULL)   \n",
            "1     (12 PENCILS SMALL TUBE SKULL)      (PACK OF 72 SKULL CAKE CASES)   \n",
            "4    (ASSORTED BOTTLE TOP  MAGNETS)            (36 DOILIES DOLLY GIRL)   \n",
            "5           (36 DOILIES DOLLY GIRL)     (ASSORTED BOTTLE TOP  MAGNETS)   \n",
            "180  (CHILDRENS CUTLERY DOLLY GIRL)  (CHILDRENS CUTLERY CIRCUS PARADE)   \n",
            "\n",
            "     antecedent support  consequent support   support  confidence  lift  \\\n",
            "0              0.055556            0.055556  0.055556         1.0  18.0   \n",
            "1              0.055556            0.055556  0.055556         1.0  18.0   \n",
            "4              0.055556            0.055556  0.055556         1.0  18.0   \n",
            "5              0.055556            0.055556  0.055556         1.0  18.0   \n",
            "180            0.055556            0.055556  0.055556         1.0  18.0   \n",
            "\n",
            "     leverage  conviction  \n",
            "0    0.052469         inf  \n",
            "1    0.052469         inf  \n",
            "4    0.052469         inf  \n",
            "5    0.052469         inf  \n",
            "180  0.052469         inf  \n"
          ]
        }
      ]
    }
  ]
}